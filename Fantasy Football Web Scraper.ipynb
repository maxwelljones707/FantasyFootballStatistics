{
 "cells": [
  {
   "cell_type": "code",
   "execution_count": 15,
   "id": "31f621c3",
   "metadata": {},
   "outputs": [],
   "source": [
    "#Fantasy Football Web Scraper\n",
    "\n",
    "\n",
    "# Beautiful Soup from https://beautiful-soup-4.readthedocs.io/en/latest/\n",
    "\n",
    "import requests                                 #import\n",
    "from bs4 import BeautifulSoup\n",
    "import pandas as pd"
   ]
  },
  {
   "cell_type": "code",
   "execution_count": 16,
   "id": "b1fbd815",
   "metadata": {},
   "outputs": [],
   "source": [
    "players = []                                    #create lists to contain data for every category\n",
    "PassingYds = []\n",
    "PassingTD = []\n",
    "Interceptions = []\n",
    "RushingYds = []\n",
    "RushingTD = []\n",
    "FantasyPts = []"
   ]
  },
  {
   "cell_type": "code",
   "execution_count": 17,
   "id": "d059b814",
   "metadata": {},
   "outputs": [],
   "source": [
    "URL = \"https://fantasy.nfl.com/research/scoringleaders?position=1#researchScoringLeaders=researchScoringLeaders%2C%2Fresearch%2Fscoringleaders%253Fposition%253D1%2526statCategory%253Dstats%2526statSeason%253D2021%2526statType%253DseasonStats%2526statWeek%253D4%2Creplace\"\n",
    "\n",
    "page = requests.get(URL)                                                       #convert URL to usable page\n",
    "\n",
    "soup = BeautifulSoup(page.content, \"html.parser\")                              #set up Beautiful Soup from URL"
   ]
  },
  {
   "cell_type": "code",
   "execution_count": 21,
   "id": "086fbed1",
   "metadata": {},
   "outputs": [],
   "source": [
    "#for loop to obtain every item from the URl where the pattern exists\n",
    "#this pattern finds every a object with the playerCard class (to find player name)\n",
    "for item in soup.select(\"a.playerCard\"):\n",
    "    players.append(item.text)                           #add each name to the players list\n",
    "\n",
    "for player in players:\n",
    "    if player == \"View News\":                             #item returns some incorrect values of \"View News\", so we remove them\n",
    "        players.remove(\"View News\")"
   ]
  },
  {
   "cell_type": "code",
   "execution_count": 22,
   "id": "50bf6983",
   "metadata": {},
   "outputs": [],
   "source": [
    "#this pattern finds every span object with the statId-5 class (to find passing yards)\n",
    "for item in soup.select(\"span.statId-5\"):\n",
    "    PassingYds.append(item.text)\n",
    "\n",
    "#this pattern finds every span object with the statId-6 class (to find passing touchdowns)\n",
    "for item in soup.select(\"span.statId-6\"):\n",
    "    PassingTD.append(item.text)\n",
    "\n",
    "#this pattern finds every span object with the statId-7 class (to find interceptions)\n",
    "for item in soup.select(\"span.statId-7\"):\n",
    "    Interceptions.append(item.text)\n",
    "\n",
    "#this pattern finds every span object with the statId-14 class (to find rushing yards)\n",
    "for item in soup.select(\"span.statId-14\"):\n",
    "    RushingYds.append(item.text)\n",
    "\n",
    "#this pattern finds every span object with the statId-15 class (to find rushing touchdowns)\n",
    "for item in soup.select(\"span.statId-15\"):\n",
    "    RushingTD.append(item.text)\n",
    "\n",
    "#this pattern finds every span object with the playerSeasonTotal class (to find faantasy points)\n",
    "for item in soup.select(\"span.playerSeasonTotal\"):\n",
    "    FantasyPts.append(item.text)"
   ]
  },
  {
   "cell_type": "code",
   "execution_count": 23,
   "id": "07e6cfd7",
   "metadata": {},
   "outputs": [
    {
     "name": "stdout",
     "output_type": "stream",
     "text": [
      "50\n",
      "50\n",
      "50\n",
      "50\n",
      "50\n",
      "50\n",
      "50\n"
     ]
    }
   ],
   "source": [
    "print(len(players))                                      #test code to make sure each list has the same length\n",
    "print(len(PassingYds))\n",
    "print(len(PassingTD))\n",
    "print(len(Interceptions))\n",
    "print(len(RushingYds))\n",
    "print(len(RushingYds))\n",
    "print(len(FantasyPts))"
   ]
  },
  {
   "cell_type": "code",
   "execution_count": 24,
   "id": "3a903788",
   "metadata": {},
   "outputs": [],
   "source": [
    "#set column names for each list\n",
    "d = {\"Players\": players,\n",
    "     \"Passing Yards\": PassingYds,\n",
    "     \"Passing Touchdowns\": PassingTD,\n",
    "     \"Interceptions\": Interceptions,\n",
    "     'Rushing Yards': RushingYds,\n",
    "     \"Rushing Touchdowns\": RushingYds,\n",
    "     \"Fantasy Points\": FantasyPts\n",
    "     }\n",
    "#create new data frame from the new columns\n",
    "df = pd.DataFrame(data=d)"
   ]
  },
  {
   "cell_type": "code",
   "execution_count": 25,
   "id": "3e51d2e8",
   "metadata": {},
   "outputs": [],
   "source": [
    "#export dataframe to csv file\n",
    "df.to_csv(r\"C:\\Users\\Max\\Desktop\\FF.csv\", index=False, header=True)"
   ]
  },
  {
   "cell_type": "code",
   "execution_count": 26,
   "id": "9928848c",
   "metadata": {},
   "outputs": [
    {
     "data": {
      "text/html": [
       "<div>\n",
       "<style scoped>\n",
       "    .dataframe tbody tr th:only-of-type {\n",
       "        vertical-align: middle;\n",
       "    }\n",
       "\n",
       "    .dataframe tbody tr th {\n",
       "        vertical-align: top;\n",
       "    }\n",
       "\n",
       "    .dataframe thead th {\n",
       "        text-align: right;\n",
       "    }\n",
       "</style>\n",
       "<table border=\"1\" class=\"dataframe\">\n",
       "  <thead>\n",
       "    <tr style=\"text-align: right;\">\n",
       "      <th></th>\n",
       "      <th>Players</th>\n",
       "      <th>Passing Yards</th>\n",
       "      <th>Passing Touchdowns</th>\n",
       "      <th>Interceptions</th>\n",
       "      <th>Rushing Yards</th>\n",
       "      <th>Rushing Touchdowns</th>\n",
       "      <th>Fantasy Points</th>\n",
       "    </tr>\n",
       "  </thead>\n",
       "  <tbody>\n",
       "    <tr>\n",
       "      <th>0</th>\n",
       "      <td>Tom Brady</td>\n",
       "      <td>1087</td>\n",
       "      <td>10</td>\n",
       "      <td>2</td>\n",
       "      <td>20</td>\n",
       "      <td>20</td>\n",
       "      <td>85.48</td>\n",
       "    </tr>\n",
       "    <tr>\n",
       "      <th>1</th>\n",
       "      <td>Kyler Murray</td>\n",
       "      <td>1005</td>\n",
       "      <td>7</td>\n",
       "      <td>4</td>\n",
       "      <td>70</td>\n",
       "      <td>70</td>\n",
       "      <td>85.20</td>\n",
       "    </tr>\n",
       "    <tr>\n",
       "      <th>2</th>\n",
       "      <td>Patrick Mahomes</td>\n",
       "      <td>940</td>\n",
       "      <td>9</td>\n",
       "      <td>3</td>\n",
       "      <td>66</td>\n",
       "      <td>66</td>\n",
       "      <td>80.20</td>\n",
       "    </tr>\n",
       "    <tr>\n",
       "      <th>3</th>\n",
       "      <td>Kirk Cousins</td>\n",
       "      <td>918</td>\n",
       "      <td>8</td>\n",
       "      <td>-</td>\n",
       "      <td>37</td>\n",
       "      <td>37</td>\n",
       "      <td>72.42</td>\n",
       "    </tr>\n",
       "    <tr>\n",
       "      <th>4</th>\n",
       "      <td>Jalen Hurts</td>\n",
       "      <td>780</td>\n",
       "      <td>5</td>\n",
       "      <td>2</td>\n",
       "      <td>179</td>\n",
       "      <td>179</td>\n",
       "      <td>71.10</td>\n",
       "    </tr>\n",
       "  </tbody>\n",
       "</table>\n",
       "</div>"
      ],
      "text/plain": [
       "           Players Passing Yards Passing Touchdowns Interceptions  \\\n",
       "0        Tom Brady          1087                 10             2   \n",
       "1     Kyler Murray          1005                  7             4   \n",
       "2  Patrick Mahomes           940                  9             3   \n",
       "3     Kirk Cousins           918                  8             -   \n",
       "4      Jalen Hurts           780                  5             2   \n",
       "\n",
       "  Rushing Yards Rushing Touchdowns Fantasy Points  \n",
       "0            20                 20          85.48  \n",
       "1            70                 70          85.20  \n",
       "2            66                 66          80.20  \n",
       "3            37                 37          72.42  \n",
       "4           179                179          71.10  "
      ]
     },
     "execution_count": 26,
     "metadata": {},
     "output_type": "execute_result"
    }
   ],
   "source": [
    "df.head()"
   ]
  },
  {
   "cell_type": "code",
   "execution_count": null,
   "id": "bd4e5f74",
   "metadata": {},
   "outputs": [],
   "source": []
  }
 ],
 "metadata": {
  "kernelspec": {
   "display_name": "Python 3 (ipykernel)",
   "language": "python",
   "name": "python3"
  },
  "language_info": {
   "codemirror_mode": {
    "name": "ipython",
    "version": 3
   },
   "file_extension": ".py",
   "mimetype": "text/x-python",
   "name": "python",
   "nbconvert_exporter": "python",
   "pygments_lexer": "ipython3",
   "version": "3.7.4"
  }
 },
 "nbformat": 4,
 "nbformat_minor": 5
}
